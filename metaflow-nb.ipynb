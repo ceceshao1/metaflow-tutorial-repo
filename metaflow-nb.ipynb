{
 "cells": [
  {
   "cell_type": "markdown",
   "metadata": {},
   "source": [
    "## Metaflow for Notebook Users\n",
    "\n",
    "Notebooks have become a critical tool for data scientists — it's super powerful to be able to write code, analyze data, and interleave visualizations, all within a single workspace. However, confidently getting a ML application to production from notebooks as a starting point presents real challenges such as:\n",
    "- producing reproducible results due to environment dependencies or access to versioned artifacts like data and models\n",
    "- difficulties switching easily between experimentation and deployment\n",
    "- tracking and comparing different runs of your models \n",
    "\n",
    "#### Perhaps you've tried:\n",
    "- using github repos to manage notebooks and artifacts\n",
    "- using a collection of bash and Python scripts and manually checking the AWS console\n",
    "\n",
    "Metaflow is a human-friendly Python/R library that helps data scientists and engineers build and manage real-life data science projects. By using Metaflow with your notebooks, you can develop and prototype ML applications quickly, deploy them to production, and brought back to your prototyping environment for continuous improvement.\n",
    "\n",
    "#### Metaflow tackles the challenges described by:\n",
    "- tracking and tying versioned your data and model artifacts back to the source code that they went into\n",
    "- working seamlessly with distributed compute  \n",
    "- managing dependencies as part of the pipeline \n",
    "\n",
    "<br>\n",
    "insert a diagram of how notebook and flow interact within pipeline"
   ]
  },
  {
   "cell_type": "markdown",
   "metadata": {},
   "source": [
    "## Who is this tutorial for?\n",
    "This tutorial may be helpful for you if you have:\n",
    "- Used notebooks for data engineering and modeling \n",
    "- Deployed notebooks to production\n",
    "- General interest in how to create robust pipelines with notebooks\n"
   ]
  },
  {
   "cell_type": "markdown",
   "metadata": {},
   "source": [
    "## What will this tutorial cover?\n",
    "\n",
    "1. Core Metaflow Concepts\n",
    "2. Best practices for managing dependencies \n",
    "3. Convert notebook into a Flow to:\n",
    "- perform data preprocessing\n",
    "- train and evaluate a model\n",
    "- deploy the model as an endpoint \n",
    "- and test that endpoint's performance \n",
    "4. Visualize artifacts from your Flow"
   ]
  },
  {
   "cell_type": "markdown",
   "metadata": {},
   "source": [
    "## [PLACEHOLDER FOR METAFLOW CONCEPTS]"
   ]
  },
  {
   "cell_type": "markdown",
   "metadata": {},
   "source": [
    "## [WIP - Managing dependencies]\n",
    "\n",
    "https://docs.metaflow.org/metaflow/dependencies\n",
    "\n",
    "The @conda decorator which allows the user to specify external dependencies for their steps safely. The @conda decorator freezes the execution environment, providing good guarantees of reproducibility, both when executed locally as well as in the cloud.\n",
    "\n",
    "Different steps: using `@conda` ensures that a specific isolated conda environment gets created for every step of your flow.\n",
    "\n",
    "`@conda_base` \n",
    "https://docs.metaflow.org/metaflow/dependencies#conda-tips-and-tricks"
   ]
  },
  {
   "cell_type": "markdown",
   "metadata": {},
   "source": [
    "Conda 101 instructions - \n",
    "- install conda \n",
    "- start with a base installation & can create multiple conda environments\n",
    "\n",
    "```\n",
    "conda create --name ENVNAME\n",
    "```\n",
    "- activate conda environment\n",
    "\n",
    "```\n",
    "conda activate --name ENVNAME\n",
    "```\n",
    "- see your list of conda environments\n",
    "```\n",
    "conda env list\n",
    "```\n",
    "\n",
    "- install package into specific conda environment\n",
    "```\n",
    "conda install PACKAGENAME --name ENVNAME\n",
    "```\n",
    "\n",
    "- use conda environment in your notebook as kernel (via ipykernel)\n",
    " \n",
    "\n",
    "```\n",
    "python -m ipykernel install --user --name=firstEnv\n",
    "```\n",
    "\n",
    "- check the packaged inside a specific environment\n",
    "```\n",
    "conda list -n ENVNAME\n",
    "```"
   ]
  },
  {
   "attachments": {
    "image.png": {
     "image/png": "[encoded data removed]"
    }
   },
   "cell_type": "markdown",
   "metadata": {},
   "source": [
    "![image.png](attachment:image.png)"
   ]
  },
  {
   "cell_type": "markdown",
   "metadata": {},
   "source": [
    "## [WIP - Setting up your Metaflow Flow]\n",
    "- describe DAG\n",
    "- best practices for breaking out steps (notebook cells as steps)"
   ]
  },
  {
   "cell_type": "markdown",
   "metadata": {},
   "source": [
    "-----\n",
    "**Use Case:** training classifier on CIFAR10 dataset using Pytorch\n",
    "\n",
    "1. **data-processing**: Download and preprocess CIFAR10 dataset\n",
    "2. **train**: Train the deep learning model\n",
    "3. **test-on-test**: Test the model on the test set\n",
    "4. **test-on-whole**: Test the model performance on the whole dataset\n",
    "\n",
    "Install Pytorch through Anaconda here: https://pytorch.org/get-started/locally/"
   ]
  },
  {
   "cell_type": "code",
   "execution_count": 4,
   "metadata": {},
   "outputs": [],
   "source": [
    "import torch\n",
    "import torchvision\n",
    "import torchvision.transforms as transforms"
   ]
  },
  {
   "cell_type": "code",
   "execution_count": 7,
   "metadata": {},
   "outputs": [
    {
     "name": "stdout",
     "output_type": "stream",
     "text": [
      "Files already downloaded and verified\n",
      "Files already downloaded and verified\n"
     ]
    }
   ],
   "source": [
    "#download data\n",
    "input_data_folder = \"./data\"\n",
    "\n",
    "transform = transforms.Compose(\n",
    "    [transforms.ToTensor(),\n",
    "     transforms.Normalize((0.5, 0.5, 0.5), (0.5, 0.5, 0.5))])\n",
    "\n",
    "trainset = torchvision.datasets.CIFAR10(root=input_data_folder, train=True,\n",
    "                                        download=True, transform=transform)\n",
    "trainloader = torch.utils.data.DataLoader(trainset, batch_size=4,\n",
    "                                          shuffle=True, num_workers=2)\n",
    "\n",
    "testset = torchvision.datasets.CIFAR10(root=input_data_folder, train=False,\n",
    "                                       download=True, transform=transform)\n",
    "testloader = torch.utils.data.DataLoader(testset, batch_size=4,\n",
    "                                         shuffle=False, num_workers=2)"
   ]
  },
  {
   "cell_type": "code",
   "execution_count": 13,
   "metadata": {},
   "outputs": [],
   "source": [
    "# parameter (will put at top of flow)\n",
    "TRAIN_STEPS = 5"
   ]
  },
  {
   "cell_type": "code",
   "execution_count": 5,
   "metadata": {},
   "outputs": [],
   "source": [
    "classes = ('plane', 'car', 'bird', 'cat',\n",
    "           'deer', 'dog', 'frog', 'horse', 'ship', 'truck')"
   ]
  },
  {
   "cell_type": "code",
   "execution_count": 8,
   "metadata": {},
   "outputs": [],
   "source": [
    "#define model\n",
    "\n",
    "import torch.nn as nn\n",
    "import torch.nn.functional as F\n",
    "\n",
    "\n",
    "class Net(nn.Module):\n",
    "    def __init__(self):\n",
    "        nn.Module.__init__(self)\n",
    "        self.conv1 = nn.Conv2d(3, 6, 5)\n",
    "        self.pool = nn.MaxPool2d(2, 2)\n",
    "        self.conv2 = nn.Conv2d(6, 16, 5)\n",
    "        self.fc1 = nn.Linear(16 * 5 * 5, 120)\n",
    "        self.fc2 = nn.Linear(120, 84)\n",
    "        self.fc3 = nn.Linear(84, 10)\n",
    "\n",
    "    def forward(self, x):\n",
    "        x = self.pool(F.relu(self.conv1(x)))\n",
    "        x = self.pool(F.relu(self.conv2(x)))\n",
    "        x = x.view(-1, 16 * 5 * 5)\n",
    "        x = F.relu(self.fc1(x))\n",
    "        x = F.relu(self.fc2(x))\n",
    "        x = self.fc3(x)\n",
    "        return x"
   ]
  },
  {
   "cell_type": "code",
   "execution_count": 9,
   "metadata": {},
   "outputs": [],
   "source": [
    "# Define loss func and optimizer\n",
    "\n",
    "import torch.optim as optim\n",
    "\n",
    "net = Net()\n",
    "criterion = nn.CrossEntropyLoss()\n",
    "optimizer = optim.SGD(net.parameters(), lr=0.001, momentum=0.9)"
   ]
  },
  {
   "cell_type": "code",
   "execution_count": 14,
   "metadata": {},
   "outputs": [
    {
     "name": "stdout",
     "output_type": "stream",
     "text": [
      "[1,  2000] loss: 2.190\n",
      "[1,  4000] loss: 1.875\n",
      "[1,  6000] loss: 1.708\n",
      "[1,  8000] loss: 1.597\n",
      "[1, 10000] loss: 1.526\n",
      "[1, 12000] loss: 1.463\n",
      "[2,  2000] loss: 1.380\n",
      "[2,  4000] loss: 1.374\n",
      "[2,  6000] loss: 1.327\n",
      "[2,  8000] loss: 1.332\n",
      "[2, 10000] loss: 1.272\n",
      "[2, 12000] loss: 1.276\n",
      "[3,  2000] loss: 1.200\n",
      "[3,  4000] loss: 1.203\n",
      "[3,  6000] loss: 1.195\n",
      "[3,  8000] loss: 1.185\n",
      "[3, 10000] loss: 1.177\n",
      "[3, 12000] loss: 1.168\n",
      "[4,  2000] loss: 1.087\n",
      "[4,  4000] loss: 1.112\n",
      "[4,  6000] loss: 1.094\n",
      "[4,  8000] loss: 1.113\n",
      "[4, 10000] loss: 1.096\n",
      "[4, 12000] loss: 1.098\n",
      "[5,  2000] loss: 1.009\n",
      "[5,  4000] loss: 1.025\n",
      "[5,  6000] loss: 1.018\n",
      "[5,  8000] loss: 1.046\n",
      "[5, 10000] loss: 1.038\n",
      "[5, 12000] loss: 1.043\n",
      "Finished Training\n"
     ]
    }
   ],
   "source": [
    "# train\n",
    "for epoch in range(TRAIN_STEPS):  # loop over the dataset multiple times\n",
    "\n",
    "    running_loss = 0.0\n",
    "    for i, data in enumerate(trainloader, 0):\n",
    "        # get the inputs\n",
    "        inputs, labels = data\n",
    "\n",
    "        # zero the parameter gradients\n",
    "        optimizer.zero_grad()\n",
    "\n",
    "        # forward + backward + optimize\n",
    "        outputs = net(inputs)\n",
    "        loss = criterion(outputs, labels)\n",
    "        loss.backward()\n",
    "        optimizer.step()\n",
    "\n",
    "        # print statistics\n",
    "        running_loss += loss.item()\n",
    "        if i % 2000 == 1999:    # print every 2000 mini-batches\n",
    "            print('[%d, %5d] loss: %.3f' %\n",
    "                  (epoch + 1, i + 1, running_loss / 2000))\n",
    "            running_loss = 0.0\n",
    "\n",
    "print('Finished Training')"
   ]
  },
  {
   "cell_type": "code",
   "execution_count": 2,
   "metadata": {},
   "outputs": [
    {
     "name": "stdout",
     "output_type": "stream",
     "text": [
      "Collecting matplotlib\n",
      "  Downloading matplotlib-3.4.3-cp39-cp39-macosx_10_9_x86_64.whl (7.2 MB)\n",
      "\u001b[K     |████████████████████████████████| 7.2 MB 3.6 MB/s eta 0:00:01     |███████████▋                    | 2.6 MB 3.6 MB/s eta 0:00:02\n",
      "\u001b[?25hRequirement already satisfied: numpy>=1.16 in /Users/ceceliashao/miniconda3/lib/python3.9/site-packages (from matplotlib) (1.20.3)\n",
      "Collecting kiwisolver>=1.0.1\n",
      "  Downloading kiwisolver-1.3.2-cp39-cp39-macosx_10_9_x86_64.whl (61 kB)\n",
      "\u001b[K     |████████████████████████████████| 61 kB 506 kB/s  eta 0:00:01\n",
      "\u001b[?25hRequirement already satisfied: pillow>=6.2.0 in /Users/ceceliashao/miniconda3/lib/python3.9/site-packages (from matplotlib) (8.3.1)\n",
      "Requirement already satisfied: python-dateutil>=2.7 in /Users/ceceliashao/miniconda3/lib/python3.9/site-packages (from matplotlib) (2.8.2)\n",
      "Requirement already satisfied: pyparsing>=2.2.1 in /Users/ceceliashao/miniconda3/lib/python3.9/site-packages (from matplotlib) (2.4.7)\n",
      "Collecting cycler>=0.10\n",
      "  Downloading cycler-0.10.0-py2.py3-none-any.whl (6.5 kB)\n",
      "Requirement already satisfied: six in /Users/ceceliashao/miniconda3/lib/python3.9/site-packages (from cycler>=0.10->matplotlib) (1.16.0)\n",
      "Installing collected packages: kiwisolver, cycler, matplotlib\n",
      "Successfully installed cycler-0.10.0 kiwisolver-1.3.2 matplotlib-3.4.3\n"
     ]
    }
   ],
   "source": [
    "! pip install matplotlib"
   ]
  },
  {
   "cell_type": "code",
   "execution_count": 15,
   "metadata": {},
   "outputs": [],
   "source": [
    "import matplotlib.pyplot as plt\n",
    "import numpy as np\n",
    "\n",
    "# function to show an image\n",
    "def imshow(img):\n",
    "    img = img / 2 + 0.5     # unnormalize\n",
    "    npimg = img.numpy()\n",
    "    plt.imshow(np.transpose(npimg, (1, 2, 0)))\n",
    "    plt.show()"
   ]
  },
  {
   "cell_type": "code",
   "execution_count": 16,
   "metadata": {},
   "outputs": [
    {
     "data": {
      "image/png": "[encoded data removed]",
      "text/plain": [
       "<Figure size 432x288 with 1 Axes>"
      ]
     },
     "metadata": {
      "needs_background": "light"
     },
     "output_type": "display_data"
    },
    {
     "name": "stdout",
     "output_type": "stream",
     "text": [
      "GroundTruth:    cat  ship  ship plane\n"
     ]
    }
   ],
   "source": [
    "# test on snippet of test data \n",
    "dataiter = iter(testloader)\n",
    "images, labels = dataiter.next()\n",
    "\n",
    "# print images\n",
    "imshow(torchvision.utils.make_grid(images))\n",
    "print('GroundTruth: ', ' '.join('%5s' % classes[labels[j]] for j in range(4)))"
   ]
  },
  {
   "cell_type": "code",
   "execution_count": 17,
   "metadata": {},
   "outputs": [
    {
     "name": "stdout",
     "output_type": "stream",
     "text": [
      "Predicted:    cat  ship  ship plane\n"
     ]
    }
   ],
   "source": [
    "outputs = net(images)\n",
    "\n",
    "_, predicted = torch.max(outputs, 1)\n",
    "\n",
    "print('Predicted: ', ' '.join('%5s' % classes[predicted[j]]\n",
    "                              for j in range(4)))"
   ]
  },
  {
   "cell_type": "code",
   "execution_count": 12,
   "metadata": {},
   "outputs": [],
   "source": [
    "correct = 0\n",
    "total = 0"
   ]
  },
  {
   "cell_type": "code",
   "execution_count": 18,
   "metadata": {},
   "outputs": [
    {
     "name": "stdout",
     "output_type": "stream",
     "text": [
      "Accuracy of the network on the 10000 test images: 62 %\n"
     ]
    }
   ],
   "source": [
    "#test on whole dataset \n",
    "with torch.no_grad():\n",
    "    for data in testloader:\n",
    "        images, labels = data\n",
    "        outputs = net(images)\n",
    "        _, predicted = torch.max(outputs.data, 1)\n",
    "        total += labels.size(0)\n",
    "        correct += (predicted == labels).sum().item()\n",
    "\n",
    "print('Accuracy of the network on the 10000 test images: %d %%' % (\n",
    "    100 * correct / total))"
   ]
  },
  {
   "cell_type": "code",
   "execution_count": 19,
   "metadata": {},
   "outputs": [
    {
     "name": "stdout",
     "output_type": "stream",
     "text": [
      "Accuracy of plane : 66 %\n",
      "Accuracy of   car : 77 %\n",
      "Accuracy of  bird : 42 %\n",
      "Accuracy of   cat : 43 %\n",
      "Accuracy of  deer : 64 %\n",
      "Accuracy of   dog : 43 %\n",
      "Accuracy of  frog : 72 %\n",
      "Accuracy of horse : 72 %\n",
      "Accuracy of  ship : 76 %\n",
      "Accuracy of truck : 66 %\n"
     ]
    }
   ],
   "source": [
    "#accuracy by class \n",
    "class_correct = list(0. for i in range(10))\n",
    "class_total = list(0. for i in range(10))\n",
    "with torch.no_grad():\n",
    "    for data in testloader:\n",
    "        images, labels = data\n",
    "        outputs = net(images)\n",
    "        _, predicted = torch.max(outputs, 1)\n",
    "        c = (predicted == labels).squeeze()\n",
    "        for i in range(4):\n",
    "            label = labels[i]\n",
    "            class_correct[label] += c[i].item()\n",
    "            class_total[label] += 1\n",
    "\n",
    "\n",
    "for i in range(10):\n",
    "    print('Accuracy of %5s : %2d %%' % (\n",
    "        classes[i], 100 * class_correct[i] / class_total[i]))"
   ]
  },
  {
   "cell_type": "code",
   "execution_count": null,
   "metadata": {},
   "outputs": [],
   "source": []
  },
  {
   "cell_type": "code",
   "execution_count": null,
   "metadata": {},
   "outputs": [],
   "source": []
  },
  {
   "cell_type": "markdown",
   "metadata": {},
   "source": [
    "`%%writefile` will create the `cifar_classifier.py` file with the following contents into your current local directory:"
   ]
  },
  {
   "cell_type": "code",
   "execution_count": null,
   "metadata": {},
   "outputs": [],
   "source": [
    "# Base Flow for inspiration\n",
    "from metaflow import FlowSpec, step, conda\n",
    "\n",
    "class ClassifierFlow(FlowSpec):\n",
    "    # python 3.9.7\n",
    "    @conda(libraries={'numpy':'1.20.3', 'matplotlib':'3.4.2'})\n",
    "    @step\n",
    "    def start(self):\n",
    "        # #TO DO\n",
    "        self.next(self.feature_engineer)\n",
    "    \n",
    "    \n",
    "    @step\n",
    "    def feature_engineer(self):\n",
    "        def read_data(path): \n",
    "            # # TO DO\n",
    "            self.next(self.model_train)\n",
    "            \n",
    "\n",
    "    @step\n",
    "    def model_train(self):\n",
    "        # # TO DO\n",
    "        self.next(self.model_test)\n",
    "        \n",
    "        \n",
    "    @step\n",
    "    def model_test(self):        \n",
    "        # # TO DO\n",
    "        self.next(self.end)       \n",
    "\n",
    "    @step\n",
    "    def end(self):\n",
    "        pass\n",
    "        \n",
    "\n",
    "if __name__ == '__main__':\n",
    "    ClassifierFlow()"
   ]
  },
  {
   "cell_type": "code",
   "execution_count": null,
   "metadata": {},
   "outputs": [],
   "source": [
    "!python run classifer.py"
   ]
  },
  {
   "cell_type": "code",
   "execution_count": null,
   "metadata": {},
   "outputs": [],
   "source": []
  },
  {
   "cell_type": "code",
   "execution_count": null,
   "metadata": {},
   "outputs": [],
   "source": []
  },
  {
   "cell_type": "markdown",
   "metadata": {},
   "source": [
    "Using notebooks to interact with Metaflow runs and artifacts. Use runs feature to explore old runs and compare runs \n",
    "- find a run and load artifacts for quick visuals\n",
    "- to check values, or some other debugging"
   ]
  },
  {
   "cell_type": "markdown",
   "metadata": {},
   "source": [
    "### More Resources:\n",
    "- Link to article on netflix team using metaflow.client to inject results into a notebook to inspect results \n",
    "- [Debugging Metaflow Jobs](https://www.highonscience.com/blog/2021/06/02/metaflow-ml-debugging/)\n",
    "- https://pythonawesome.com/an-end-to-end-implementation-of-intent-prediction-with-metaflow-and-other-cool-tools/\n",
    "- [Metaflow Docs - Notebooks](https://docs.metaflow.org/metaflow-on-aws/metaflow-on-aws#notebooks)"
   ]
  },
  {
   "cell_type": "code",
   "execution_count": null,
   "metadata": {},
   "outputs": [],
   "source": []
  }
 ],
 "metadata": {
  "interpreter": {
   "hash": "aee8b7b246df8f9039afb4144a1f6fd8d2ca17a180786b69acc140d282b71a49"
  },
  "kernelspec": {
   "display_name": "tf-2.0",
   "language": "python",
   "name": "tf-2.0"
  },
  "language_info": {
   "codemirror_mode": {
    "name": "ipython",
    "version": 3
   },
   "file_extension": ".py",
   "mimetype": "text/x-python",
   "name": "python",
   "nbconvert_exporter": "python",
   "pygments_lexer": "ipython3",
   "version": "3.9.5"
  }
 },
 "nbformat": 4,
 "nbformat_minor": 2
}
